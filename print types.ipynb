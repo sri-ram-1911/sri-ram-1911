{
 "cells": [
  {
   "cell_type": "code",
   "execution_count": 1,
   "id": "ecb342df",
   "metadata": {},
   "outputs": [],
   "source": [
    "a=10"
   ]
  },
  {
   "cell_type": "code",
   "execution_count": 2,
   "id": "156a5a7a",
   "metadata": {},
   "outputs": [
    {
     "data": {
      "text/plain": [
       "10"
      ]
     },
     "execution_count": 2,
     "metadata": {},
     "output_type": "execute_result"
    }
   ],
   "source": [
    "a"
   ]
  },
  {
   "cell_type": "code",
   "execution_count": 4,
   "id": "6860722c",
   "metadata": {},
   "outputs": [
    {
     "name": "stdout",
     "output_type": "stream",
     "text": [
      "10 a\n"
     ]
    }
   ],
   "source": [
    "print(a,'a')"
   ]
  },
  {
   "cell_type": "markdown",
   "id": "1e7cfd8a",
   "metadata": {},
   "source": [
    "# FORMAT PRINT"
   ]
  },
  {
   "cell_type": "code",
   "execution_count": 9,
   "id": "327215c3",
   "metadata": {},
   "outputs": [],
   "source": [
    "a='sriram'"
   ]
  },
  {
   "cell_type": "code",
   "execution_count": 10,
   "id": "85cee070",
   "metadata": {},
   "outputs": [
    {
     "name": "stdout",
     "output_type": "stream",
     "text": [
      "sriram\n"
     ]
    }
   ],
   "source": [
    "print(a)"
   ]
  },
  {
   "cell_type": "code",
   "execution_count": 18,
   "id": "f9e51f6b",
   "metadata": {},
   "outputs": [
    {
     "name": "stdout",
     "output_type": "stream",
     "text": [
      "my name is () sriram\n"
     ]
    }
   ],
   "source": [
    "print(\"my name is ()\",format(a))"
   ]
  },
  {
   "cell_type": "code",
   "execution_count": 24,
   "id": "c420a62e",
   "metadata": {},
   "outputs": [
    {
     "name": "stdout",
     "output_type": "stream",
     "text": [
      "my name is parandhaman\n"
     ]
    }
   ],
   "source": [
    "print(\"my name is {name}\".format(name=\"parandhaman\"))"
   ]
  },
  {
   "cell_type": "code",
   "execution_count": 41,
   "id": "d3c214dd",
   "metadata": {},
   "outputs": [
    {
     "name": "stdout",
     "output_type": "stream",
     "text": [
      "my name is Parandhaman ,  I am STUDYING in PMIST\n"
     ]
    }
   ],
   "source": [
    "print(\"my name is {name} ,  I am STUDYING in {college}\".format(name=\"Parandhaman\",college = \"PMIST\"))"
   ]
  },
  {
   "cell_type": "code",
   "execution_count": 42,
   "id": "a80e849e",
   "metadata": {},
   "outputs": [
    {
     "name": "stdout",
     "output_type": "stream",
     "text": [
      "my name is Sriram, I AM STUDYING in PMIST\n"
     ]
    }
   ],
   "source": [
    "print(\"my name is {name}, I AM STUDYING in {college}\".format(name=\"Sriram\",college=\"PMIST\"))"
   ]
  },
  {
   "cell_type": "code",
   "execution_count": 44,
   "id": "e3de2c92",
   "metadata": {},
   "outputs": [
    {
     "name": "stdout",
     "output_type": "stream",
     "text": [
      "my name is Sriram,I AM STUDYING PMIST\n"
     ]
    }
   ],
   "source": [
    "print(\"my name is {},I AM STUDYING {}\".format('Sriram',\"PMIST\"))"
   ]
  },
  {
   "cell_type": "code",
   "execution_count": 46,
   "id": "3a31b361",
   "metadata": {},
   "outputs": [
    {
     "name": "stdout",
     "output_type": "stream",
     "text": [
      "my name is Parandhaman,I AM STUDYING at PMIST\n"
     ]
    }
   ],
   "source": [
    "print(\"my name is {},I AM STUDYING at {}\".format('Parandhaman',\"PMIST\"))"
   ]
  },
  {
   "cell_type": "markdown",
   "id": "8325b01c",
   "metadata": {},
   "source": [
    "# F-PRINT"
   ]
  },
  {
   "cell_type": "code",
   "execution_count": 47,
   "id": "d1b55d90",
   "metadata": {},
   "outputs": [
    {
     "name": "stdout",
     "output_type": "stream",
     "text": [
      "my name is Sriram.i am AI and ML engineer\n"
     ]
    }
   ],
   "source": [
    "print(f\"my name is {'Sriram'}.i am {'AI and ML'} engineer\")"
   ]
  },
  {
   "cell_type": "markdown",
   "id": "764ff62d",
   "metadata": {},
   "source": [
    "# TASK 1\n",
    "She \"sell\" Sea shell in \"sea shore\""
   ]
  },
  {
   "cell_type": "code",
   "execution_count": 52,
   "id": "1ad4e284",
   "metadata": {},
   "outputs": [],
   "source": [
    "E='\"sell\"'\n",
    "G='\"in sea shore\"'"
   ]
  },
  {
   "cell_type": "code",
   "execution_count": 53,
   "id": "1eb1bf6f",
   "metadata": {
    "scrolled": true
   },
   "outputs": [
    {
     "name": "stdout",
     "output_type": "stream",
     "text": [
      "she \"sell\" sea shell \"sea shore\"\n"
     ]
    }
   ],
   "source": [
    "print(\"she\",E,\"sea shell\",G )"
   ]
  },
  {
   "cell_type": "code",
   "execution_count": 62,
   "id": "6b9b18d7",
   "metadata": {},
   "outputs": [
    {
     "name": "stdout",
     "output_type": "stream",
     "text": [
      "she\"sell\"sea shell in\"sea shore\"\n"
     ]
    }
   ],
   "source": [
    "print(\"she{}sea shell in{}\".format('\"sell\"','\"sea shore\"'))"
   ]
  },
  {
   "cell_type": "code",
   "execution_count": 63,
   "id": "43c289a7",
   "metadata": {},
   "outputs": [
    {
     "name": "stdout",
     "output_type": "stream",
     "text": [
      "19800\n"
     ]
    },
    {
     "data": {
      "text/plain": [
       "'19800'"
      ]
     },
     "execution_count": 63,
     "metadata": {},
     "output_type": "execute_result"
    }
   ],
   "source": [
    "input()"
   ]
  },
  {
   "cell_type": "code",
   "execution_count": 67,
   "id": "9bed05b2",
   "metadata": {},
   "outputs": [
    {
     "name": "stdout",
     "output_type": "stream",
     "text": [
      "sriram\n"
     ]
    }
   ],
   "source": [
    "var1=input()"
   ]
  },
  {
   "cell_type": "code",
   "execution_count": 68,
   "id": "d0829c3c",
   "metadata": {},
   "outputs": [
    {
     "data": {
      "text/plain": [
       "'sriram'"
      ]
     },
     "execution_count": 68,
     "metadata": {},
     "output_type": "execute_result"
    }
   ],
   "source": [
    "var1"
   ]
  },
  {
   "cell_type": "code",
   "execution_count": 72,
   "id": "ade69151",
   "metadata": {},
   "outputs": [
    {
     "name": "stdout",
     "output_type": "stream",
     "text": [
      "enter your age22\n"
     ]
    }
   ],
   "source": [
    "var=int(input(\"enter your age\"))"
   ]
  },
  {
   "cell_type": "code",
   "execution_count": 70,
   "id": "6cfc8411",
   "metadata": {},
   "outputs": [
    {
     "data": {
      "text/plain": [
       "'22'"
      ]
     },
     "execution_count": 70,
     "metadata": {},
     "output_type": "execute_result"
    }
   ],
   "source": [
    "var"
   ]
  },
  {
   "cell_type": "code",
   "execution_count": 73,
   "id": "3a8a0b44",
   "metadata": {},
   "outputs": [
    {
     "data": {
      "text/plain": [
       "int"
      ]
     },
     "execution_count": 73,
     "metadata": {},
     "output_type": "execute_result"
    }
   ],
   "source": [
    "type(var)"
   ]
  },
  {
   "cell_type": "code",
   "execution_count": null,
   "id": "4ba0e571",
   "metadata": {},
   "outputs": [],
   "source": []
  }
 ],
 "metadata": {
  "kernelspec": {
   "display_name": "Python 3 (ipykernel)",
   "language": "python",
   "name": "python3"
  },
  "language_info": {
   "codemirror_mode": {
    "name": "ipython",
    "version": 3
   },
   "file_extension": ".py",
   "mimetype": "text/x-python",
   "name": "python",
   "nbconvert_exporter": "python",
   "pygments_lexer": "ipython3",
   "version": "3.9.17"
  }
 },
 "nbformat": 4,
 "nbformat_minor": 5
}
